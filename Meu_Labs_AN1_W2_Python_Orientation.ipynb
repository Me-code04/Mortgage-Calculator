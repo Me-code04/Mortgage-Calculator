{
  "nbformat": 4,
  "nbformat_minor": 0,
  "metadata": {
    "colab": {
      "name": "Meu Labs AN1: W2 Python Orientation",
      "provenance": [],
      "collapsed_sections": [],
      "include_colab_link": true
    },
    "kernelspec": {
      "name": "python3",
      "display_name": "Python 3"
    }
  },
  "cells": [
    {
      "cell_type": "markdown",
      "metadata": {
        "id": "view-in-github",
        "colab_type": "text"
      },
      "source": [
        "<a href=\"https://colab.research.google.com/github/Me-code04/Mortgage-Calculator/blob/main/Meu_Labs_AN1_W2_Python_Orientation.ipynb\" target=\"_parent\"><img src=\"https://colab.research.google.com/assets/colab-badge.svg\" alt=\"Open In Colab\"/></a>"
      ]
    },
    {
      "cell_type": "markdown",
      "metadata": {
        "id": "WdDeRs8nwsse"
      },
      "source": [
        "![](https://drive.google.com/uc?export=view&id=1vQwkBbrz7uaGm8AEOjro-8XuEJcFoIRn)\n",
        "<b><h1><font color = 247FF3> Meu Labs AN1: Python Orientation</h1>\n",
        "<h4><b>Welcome to this lesson on basic Python!\n",
        "This will help you get a grasp on this new programming language. Don't worry if this feels too complicated, you will soon become a Pro at this! \n",
        "</h4> </b>"
      ]
    },
    {
      "cell_type": "code",
      "metadata": {
        "colab": {
          "base_uri": "https://localhost:8080/",
          "height": 321
        },
        "id": "ZsQ6o6qpIxe9",
        "outputId": "ae1b09a0-b6bf-4b9f-95e9-78c52673a112"
      },
      "source": [
        "#@title\n",
        "from IPython.display import YouTubeVideo\n",
        "YouTubeVideo('Y8Tko2YC5hA')"
      ],
      "execution_count": null,
      "outputs": [
        {
          "output_type": "execute_result",
          "data": {
            "text/html": [
              "\n",
              "        <iframe\n",
              "            width=\"400\"\n",
              "            height=\"300\"\n",
              "            src=\"https://www.youtube.com/embed/Y8Tko2YC5hA\"\n",
              "            frameborder=\"0\"\n",
              "            allowfullscreen\n",
              "        ></iframe>\n",
              "        "
            ],
            "text/plain": [
              "<IPython.lib.display.YouTubeVideo at 0x7f649145b3d0>"
            ],
            "image/jpeg": "[encoded data removed]"
          },
          "metadata": {},
          "execution_count": 1
        }
      ]
    },
    {
      "cell_type": "markdown",
      "metadata": {
        "id": "PR-M6YwHxkoW"
      },
      "source": [
        "<h2><b><font color = 1DAD1E>1. Print() function in python:</h2>\n",
        "\n",
        "\n",
        "\n",
        "Run the two cells below. What is the difference between them?  "
      ]
    },
    {
      "cell_type": "code",
      "metadata": {
        "id": "x_R9bFHvvu1f",
        "colab": {
          "base_uri": "https://localhost:8080/"
        },
        "outputId": "1c34c20b-c10a-4a22-db8b-a47219ad04bc"
      },
      "source": [
        "2+7\n",
        "2*7\n",
        "\n",
        "# Hi I just made a comment"
      ],
      "execution_count": null,
      "outputs": [
        {
          "output_type": "execute_result",
          "data": {
            "text/plain": [
              "14"
            ]
          },
          "metadata": {},
          "execution_count": 11
        }
      ]
    },
    {
      "cell_type": "code",
      "metadata": {
        "id": "p2xPUnXMyYA7",
        "colab": {
          "base_uri": "https://localhost:8080/"
        },
        "outputId": "6cef0598-e33a-434c-8555-3caf44f19c46"
      },
      "source": [
        "print(2+7)\n",
        "print(2*7)"
      ],
      "execution_count": null,
      "outputs": [
        {
          "output_type": "stream",
          "name": "stdout",
          "text": [
            "2+7\n",
            "9\n",
            "14\n"
          ]
        }
      ]
    },
    {
      "cell_type": "code",
      "metadata": {
        "id": "ZoMyiceiJTAp",
        "colab": {
          "base_uri": "https://localhost:8080/"
        },
        "outputId": "643c597f-9b7b-4370-862e-d91a69ef4197"
      },
      "source": [
        "print('Hello World!!!!')"
      ],
      "execution_count": null,
      "outputs": [
        {
          "output_type": "stream",
          "name": "stdout",
          "text": [
            "Hello World!!!!\n"
          ]
        }
      ]
    },
    {
      "cell_type": "markdown",
      "metadata": {
        "id": "GYigYTNsqwKz"
      },
      "source": [
        "##<h3><b><font color = DA3143 >Challenge Problem: Print your name in Python</b></h3>"
      ]
    },
    {
      "cell_type": "code",
      "metadata": {
        "id": "hU0glMzirLk2",
        "colab": {
          "base_uri": "https://localhost:8080/"
        },
        "outputId": "22bb17dd-0281-467e-b4f2-74494659496f"
      },
      "source": [
        "# Add your code "
      ],
      "execution_count": null,
      "outputs": [
        {
          "output_type": "stream",
          "name": "stdout",
          "text": [
            "Hello Shayen !\n"
          ]
        }
      ]
    },
    {
      "cell_type": "markdown",
      "metadata": {
        "id": "hHx4ul-t1hJu"
      },
      "source": [
        "#<h2><b><font color = 1DAD1E> **2. Arithmetic Operators**\n",
        "\n",
        "An arithmetic operator is a mathematical function that takes 2 operands and performs a calculation on them. \n",
        "\n",
        "* <b>+</b> Addition\n",
        "* <b>-</b> Subtraction\n",
        "* <b>*</b> Multiplication\n",
        "* <b>/</b> Division\n",
        "\n",
        "\n",
        "* <b>%</b> Mod (the remainder after dividing)\n",
        "* <b>//</b> Divides and rounds down to the nearest integer\n"
      ]
    },
    {
      "cell_type": "code",
      "metadata": {
        "id": "XcDyy7pVvV3Z",
        "colab": {
          "base_uri": "https://localhost:8080/"
        },
        "outputId": "28c8e2c1-a257-4e66-80cf-f1f81e13f4d9"
      },
      "source": [
        "print(5/2)\n",
        "\n",
        "print(5%2)\n",
        "\n",
        "print(5//2)"
      ],
      "execution_count": null,
      "outputs": [
        {
          "output_type": "stream",
          "name": "stdout",
          "text": [
            "2.5\n",
            "1\n",
            "2\n"
          ]
        }
      ]
    },
    {
      "cell_type": "markdown",
      "metadata": {
        "id": "2cNfX3_cvRZ8"
      },
      "source": [
        "#<h3><b><font color = DA3143>Challenge Problem: If Sri Lanka had 30,000 covid patients in August and 65,000 covid patients in September and 10% of them were children under 15 years. How many children under 15 contracted covid in August and September?</b></h3>"
      ]
    },
    {
      "cell_type": "code",
      "metadata": {
        "id": "wzCreve6wUnf",
        "colab": {
          "base_uri": "https://localhost:8080/"
        },
        "outputId": "663f0378-d878-4e87-c7a3-df4667b657fa"
      },
      "source": [
        "# add your code here\n"
      ],
      "execution_count": null,
      "outputs": [
        {
          "output_type": "stream",
          "name": "stdout",
          "text": [
            "9500.0\n"
          ]
        }
      ]
    },
    {
      "cell_type": "markdown",
      "metadata": {
        "id": "uVi1mZvCCuSV"
      },
      "source": [
        "<font color = 1DAD1E><b><h3> 3. Variables<br> </font> \n",
        "Variables are used to store information to be referenced and manipulated in a computer program.\n",
        "\n",
        "Creating a new variable in python is very simple, lets create one together, here in this example below the variable name is *cases*, the equal sign is the assignment operator and the value of the variable is 30000."
      ]
    },
    {
      "cell_type": "code",
      "metadata": {
        "id": "kIeQxFP67CNX",
        "colab": {
          "base_uri": "https://localhost:8080/"
        },
        "outputId": "b9354e6c-320a-43f0-96f6-400b8bf2a0a8"
      },
      "source": [
        "cases_in_august = 30000\n",
        "\n",
        "print(cases_in_august)"
      ],
      "execution_count": null,
      "outputs": [
        {
          "output_type": "stream",
          "name": "stdout",
          "text": [
            "30000\n"
          ]
        }
      ]
    },
    {
      "cell_type": "code",
      "metadata": {
        "id": "UmjOEeTQwzzk",
        "colab": {
          "base_uri": "https://localhost:8080/"
        },
        "outputId": "52a9aa7f-152e-4341-dbd0-28eaf0a87185"
      },
      "source": [
        "cases_in_september = 65000\n",
        "\n",
        "print(cases_in_september)"
      ],
      "execution_count": null,
      "outputs": [
        {
          "output_type": "stream",
          "name": "stdout",
          "text": [
            "65000\n"
          ]
        }
      ]
    },
    {
      "cell_type": "markdown",
      "metadata": {
        "id": "hfgtXMqGDI2l"
      },
      "source": [
        "<b><h3><font color = 1DAD1E >Now lets add these cases together\n"
      ]
    },
    {
      "cell_type": "code",
      "metadata": {
        "id": "T555uiioxDCB",
        "colab": {
          "base_uri": "https://localhost:8080/"
        },
        "outputId": "28b4d344-ebab-4a79-a3e0-08d166a8a7cd"
      },
      "source": [
        "# add your code here\n"
      ],
      "execution_count": null,
      "outputs": [
        {
          "output_type": "stream",
          "name": "stdout",
          "text": [
            "95000\n"
          ]
        }
      ]
    },
    {
      "cell_type": "markdown",
      "metadata": {
        "id": "ESJS8yE9J0zB"
      },
      "source": [
        "<b><h3><font color = 1DAD1E >Now find what percentage of patients were kids below the age of 15"
      ]
    },
    {
      "cell_type": "code",
      "metadata": {
        "id": "0Kg1PjaUDaLl",
        "colab": {
          "base_uri": "https://localhost:8080/"
        },
        "outputId": "b22d49c0-fc6d-4336-99da-1a398082db9c"
      },
      "source": [
        "# add your code here\n"
      ],
      "execution_count": null,
      "outputs": [
        {
          "output_type": "stream",
          "name": "stdout",
          "text": [
            "9500.0\n"
          ]
        }
      ]
    },
    {
      "cell_type": "markdown",
      "metadata": {
        "id": "PUE_n529K-Gp"
      },
      "source": [
        "<b><h3><font color = 1DAD1E > **4. Multiple Assignment Operator:**\n",
        "\n",
        "You can also do the same calculation in one go. See if you can do that below\n"
      ]
    },
    {
      "cell_type": "code",
      "metadata": {
        "id": "gZHy4uODKsQX",
        "colab": {
          "base_uri": "https://localhost:8080/"
        },
        "outputId": "ea780343-e98c-4ea9-d264-977ce48142f4"
      },
      "source": [
        "# Add your code here\n",
        "\n"
      ],
      "execution_count": null,
      "outputs": [
        {
          "output_type": "stream",
          "name": "stdout",
          "text": [
            "9500.0\n"
          ]
        }
      ]
    },
    {
      "cell_type": "markdown",
      "metadata": {
        "id": "PdSLF0z5N0Bq"
      },
      "source": [
        "<b><h3><font color = 1DAD1E >Here is the same calculation performed inside one code block"
      ]
    },
    {
      "cell_type": "code",
      "metadata": {
        "id": "cGr5tmszNwUe",
        "colab": {
          "base_uri": "https://localhost:8080/"
        },
        "outputId": "8bdf3c09-1fc3-46a1-afa2-2d0977ed3156"
      },
      "source": [
        "cases_aug, cases_sep, kids_perc = 30000, 65000, 0.1\n",
        "total_kids = (cases_aug + cases_sep) * kids_perc\n",
        "\n",
        "print(total_kids)"
      ],
      "execution_count": null,
      "outputs": [
        {
          "output_type": "stream",
          "name": "stdout",
          "text": [
            "9500.0\n"
          ]
        }
      ]
    },
    {
      "cell_type": "markdown",
      "metadata": {
        "id": "G3q5YcesJ8MV"
      },
      "source": [
        "<b><h3><font color = 1DAD1E >**5. Integers and Floats:**\n",
        "Integers and Floats are different ways of storing numerical values"
      ]
    },
    {
      "cell_type": "code",
      "metadata": {
        "id": "fqai63lgI8v8",
        "colab": {
          "base_uri": "https://localhost:8080/"
        },
        "outputId": "e2852d28-cda7-46e0-db97-8286aa8306cd"
      },
      "source": [
        "print(3/2)"
      ],
      "execution_count": null,
      "outputs": [
        {
          "output_type": "stream",
          "name": "stdout",
          "text": [
            "1.5\n"
          ]
        }
      ]
    },
    {
      "cell_type": "code",
      "metadata": {
        "id": "_17RKbnXMvSZ",
        "colab": {
          "base_uri": "https://localhost:8080/"
        },
        "outputId": "c0834b6e-d4cb-419f-94b6-efc1822e7576"
      },
      "source": [
        "cases_aug = float(30000.871278)\n",
        "cases_sept = int(65000.871278)\n",
        "\n",
        "print(cases_aug)\n",
        "print(cases_sept)"
      ],
      "execution_count": null,
      "outputs": [
        {
          "output_type": "stream",
          "name": "stdout",
          "text": [
            "30000.871278\n",
            "65000\n"
          ]
        }
      ]
    },
    {
      "cell_type": "markdown",
      "metadata": {
        "id": "cs768gAfFM2S"
      },
      "source": [
        "<b><h3><font color = 1DAD1E >**6. Boolean Datatype, Comparison, and Logical Operators:**\n",
        "\n",
        "Bool is another datatype that is commonly used in Python. Bool is short for Boolean which can have a value of either True or False. Boolean algebra is the branch of algebra in which the values of the variables are the truth values true or false. Boolean algebra us the framework on which all electronic devices and built and exists fundamentally in every line of code inside a computer. In python we can easily assign boolean values like this:\n"
      ]
    },
    {
      "cell_type": "code",
      "metadata": {
        "id": "JW5nXrxsEnin",
        "colab": {
          "base_uri": "https://localhost:8080/"
        },
        "outputId": "543153ba-8215-4b9b-cd62-4a50ed467b0f"
      },
      "source": [
        "meulabs_is_awesome = True\n",
        "covid19_is_awesome = False\n",
        "\n",
        "print(meulabs_is_awesome)\n",
        "print(type(meulabs_is_awesome))\n",
        "\n",
        "print(covid19_is_awesome)\n",
        "print(type(covid19_is_awesome))"
      ],
      "execution_count": null,
      "outputs": [
        {
          "output_type": "stream",
          "name": "stdout",
          "text": [
            "True\n",
            "<class 'bool'>\n",
            "False\n",
            "<class 'bool'>\n"
          ]
        }
      ]
    },
    {
      "cell_type": "markdown",
      "metadata": {
        "id": "a-JN4xZlHmzD"
      },
      "source": [
        "<b><h3><font color = 1DAD1E >We can use comparison operators to compare 2 values and produce boolean results like:"
      ]
    },
    {
      "cell_type": "code",
      "metadata": {
        "id": "mVRNbJecHjgH",
        "colab": {
          "base_uri": "https://localhost:8080/"
        },
        "outputId": "92ceeed0-05f7-4804-cb84-2b2ddfc543c7"
      },
      "source": [
        "a = cases_aug < cases_sept\n",
        "\n",
        "print(a)\n",
        "print(type(a))"
      ],
      "execution_count": null,
      "outputs": [
        {
          "output_type": "stream",
          "name": "stdout",
          "text": [
            "True\n",
            "<class 'bool'>\n"
          ]
        }
      ]
    },
    {
      "cell_type": "markdown",
      "metadata": {
        "id": "oeq2QDdEMSK8"
      },
      "source": [
        "<b><h3><font color = 1DAD1E >**7. Strings:**\n",
        "\n",
        "Python has another datatype in its toolkit called Strings. This datatype deals with characters words and text."
      ]
    },
    {
      "cell_type": "code",
      "metadata": {
        "id": "Q84mRQ2_MFGW",
        "colab": {
          "base_uri": "https://localhost:8080/"
        },
        "outputId": "37475ab2-259a-4fa8-ee2f-dff9879bc6cd"
      },
      "source": [
        "# Using Double Quotes\n",
        "instructor = \"Thulith Edirisinghe\"\n",
        "print(instructor)\n",
        "\n",
        "# Using Single Quotes\n",
        "print('Thulith Edirisinghe')"
      ],
      "execution_count": null,
      "outputs": [
        {
          "output_type": "stream",
          "name": "stdout",
          "text": [
            "Thulith Edirisinghe\n",
            "Thulith Edirisinghe\n"
          ]
        }
      ]
    },
    {
      "cell_type": "markdown",
      "metadata": {
        "id": "odFoazduN4rR"
      },
      "source": [
        "<b>In this example we printed the word *Thulith Edirisinghe* using single and double quotes and got the same output *Thulith Edirisinghe*.\n",
        "\n",
        "<b>We can also assign a string to a variable just like float and int."
      ]
    },
    {
      "cell_type": "markdown",
      "metadata": {
        "id": "YHgDcRm6R0FI"
      },
      "source": [
        "<b>Strings in Python are shown as the variable type str."
      ]
    },
    {
      "cell_type": "code",
      "metadata": {
        "id": "YkyDHgq3RW6K",
        "colab": {
          "base_uri": "https://localhost:8080/"
        },
        "outputId": "6b578a7c-41a1-46e4-fd3d-d4f3bf704905"
      },
      "source": [
        "print(type(instructor))"
      ],
      "execution_count": null,
      "outputs": [
        {
          "output_type": "stream",
          "name": "stdout",
          "text": [
            "<class 'str'>\n"
          ]
        }
      ]
    },
    {
      "cell_type": "markdown",
      "metadata": {
        "id": "RA3hh1VhTFUF"
      },
      "source": [
        "<b>There are a few operators that we use on floats and ints that can also be used on strings. For example we can use the **'+'** to combine / concatenate 2 strings together and we can use **'*'** to repeat the string let us look at an example for each."
      ]
    },
    {
      "cell_type": "code",
      "metadata": {
        "id": "bIBYEJ6uS7ko",
        "colab": {
          "base_uri": "https://localhost:8080/"
        },
        "outputId": "8f18cd43-1747-4e36-9960-dacd8d8b99cc"
      },
      "source": [
        "print(75 + 25)\n",
        "print(\"75\" + \"25\")\n",
        "\n",
        "print(\"hello\" + \"45\")"
      ],
      "execution_count": null,
      "outputs": [
        {
          "output_type": "stream",
          "name": "stdout",
          "text": [
            "100\n",
            "7525\n",
            "hello45\n"
          ]
        }
      ]
    },
    {
      "cell_type": "code",
      "metadata": {
        "id": "jYVDqes0TeCz",
        "colab": {
          "base_uri": "https://localhost:8080/"
        },
        "outputId": "d18ca3c6-3fff-478a-b77b-0287f1003292"
      },
      "source": [
        "word = \"hello \"\n",
        "print(word * 3)\n",
        "print(word + \"3\")"
      ],
      "execution_count": null,
      "outputs": [
        {
          "output_type": "stream",
          "name": "stdout",
          "text": [
            "hello hello hello \n",
            "hello 3\n"
          ]
        }
      ]
    },
    {
      "cell_type": "code",
      "metadata": {
        "id": "oQNIXXfNTtzl",
        "colab": {
          "base_uri": "https://localhost:8080/"
        },
        "outputId": "c334cb67-53c7-4e76-f10b-b925d3983b2a"
      },
      "source": [
        "char_length = \"Sri Lanka had 30,000 Covid-19 cases in August\"\n",
        "print(len(char_length))\n",
        "\n",
        "char_length = \"ABCDE\"\n",
        "print(len(char_length))"
      ],
      "execution_count": null,
      "outputs": [
        {
          "output_type": "stream",
          "name": "stdout",
          "text": [
            "45\n",
            "5\n"
          ]
        }
      ]
    },
    {
      "cell_type": "code",
      "metadata": {
        "id": "4-CIUQmt75KN",
        "colab": {
          "base_uri": "https://localhost:8080/"
        },
        "outputId": "485fbfc9-81e5-4095-dfba-6b15283b19d4"
      },
      "source": [
        "my_string = \"Sri Lanka had 30,000 Covid-19 cases in August\"\n",
        "\n",
        "print(my_string.count('a'))\n",
        "print(my_string.find('a'))"
      ],
      "execution_count": null,
      "outputs": [
        {
          "output_type": "stream",
          "name": "stdout",
          "text": [
            "4\n",
            "5\n"
          ]
        }
      ]
    },
    {
      "cell_type": "code",
      "metadata": {
        "id": "3HPyReLIA2AC",
        "colab": {
          "base_uri": "https://localhost:8080/"
        },
        "outputId": "350aa9d2-7aa4-4785-c7cd-a2a2c056af2f"
      },
      "source": [
        "cases = 30000\n",
        "\n",
        "print(\"Sri Lanka had \" + str(cases) + \" Covid-19 cases in August\")"
      ],
      "execution_count": null,
      "outputs": [
        {
          "output_type": "stream",
          "name": "stdout",
          "text": [
            "Sri Lanka had 30000 Covid-19 cases in August\n"
          ]
        }
      ]
    },
    {
      "cell_type": "markdown",
      "metadata": {
        "id": "PqKTCtYOTMQ8"
      },
      "source": [
        "<b><h3><font color = 1DAD1E > **8. Lists and Membership Operators:**\n",
        "\n",
        "**Data structures** are containers that organize and group data types together in different ways. A **list** is one of the most common and basic data structures in Python."
      ]
    },
    {
      "cell_type": "code",
      "metadata": {
        "id": "zRS5zyHbWqaP",
        "colab": {
          "base_uri": "https://localhost:8080/"
        },
        "outputId": "c207075e-8748-4be5-804f-c967ab13141c"
      },
      "source": [
        "red_zone = ['Sri Lanka', 'Nepal', 'France', 'Haiti', 'Lebenon']\n",
        "\n",
        "students = [\"Malithu\", \"Sasindu\", \"Yuwan\", \"Chakshana\", \"Gajindu\", 1, 2, 3, 4.56, True, False, 234.456]\n",
        "\n",
        "print(red_zone)\n",
        "print(students)"
      ],
      "execution_count": null,
      "outputs": [
        {
          "output_type": "stream",
          "name": "stdout",
          "text": [
            "['Sri Lanka', 'Nepal', 'France', 'Haiti', 'Lebenon']\n",
            "['Malithu', 'Sasindu', 'Yuwan', 'Chakshana', 'Gajindu', 1, 2, 3, 4.56, True, False, 234.456]\n"
          ]
        }
      ]
    },
    {
      "cell_type": "markdown",
      "metadata": {
        "id": "fl7PSRXXdhrO"
      },
      "source": [
        "<b>List are ordered, we can look up individual elements by their index, we can look elements from a list just like we have done below."
      ]
    },
    {
      "cell_type": "code",
      "metadata": {
        "id": "uERsCZXNeBbY",
        "colab": {
          "base_uri": "https://localhost:8080/"
        },
        "outputId": "3285ea79-50cc-40e2-c2e7-26b567021870"
      },
      "source": [
        "print(red_zone[0])\n",
        "print(red_zone[1])"
      ],
      "execution_count": null,
      "outputs": [
        {
          "output_type": "stream",
          "name": "stdout",
          "text": [
            "Sri Lanka\n",
            "Nepal\n"
          ]
        }
      ]
    },
    {
      "cell_type": "markdown",
      "metadata": {
        "id": "cGgwxP3_eWir"
      },
      "source": [
        "<b>Notice that the first element in the list is accessed by the index 0, many programming language follow this convection called as zero based indexing.\n",
        "\n",
        "We can also access the elements from the end of the list using negative index as seen in the examples below."
      ]
    },
    {
      "cell_type": "code",
      "metadata": {
        "id": "CiGVaf_beRAC",
        "colab": {
          "base_uri": "https://localhost:8080/"
        },
        "outputId": "b3601bc2-97ac-4755-aa7f-52fe64a3d5fb"
      },
      "source": [
        "print(red_zone[-1])\n",
        "print(red_zone[-3])\n"
      ],
      "execution_count": null,
      "outputs": [
        {
          "output_type": "stream",
          "name": "stdout",
          "text": [
            "Lebenon\n",
            "France\n"
          ]
        }
      ]
    },
    {
      "cell_type": "markdown",
      "metadata": {
        "id": "KqJU4qOYgE6A"
      },
      "source": [
        "<b>If you try to access an index in a list that doesn't exist then you will get an Error as seen below."
      ]
    },
    {
      "cell_type": "code",
      "metadata": {
        "id": "C5DSaY0Wf2wT"
      },
      "source": [
        "print(red_zone[20])"
      ],
      "execution_count": null,
      "outputs": []
    },
    {
      "cell_type": "code",
      "metadata": {
        "id": "dLyKcmXNiLwU",
        "colab": {
          "base_uri": "https://localhost:8080/"
        },
        "outputId": "9b48b2fa-46fa-43c0-efb7-d93004c4425b"
      },
      "source": [
        "countries = ['Sri Lanka', 'Nepal', 'France', 'Haiti', 'Lebenon', 'New Zealand', 'Taiwan', 'Poland', 'Madagaskar']\n",
        "country = \"Canada\"\n",
        "\n",
        "# slice a particular range\n",
        "red_zone = countries[0:5]\n",
        "green_zone = countries[5:9]\n",
        "test = country[0:3]\n",
        "\n",
        "print(red_zone)\n",
        "print(green_zone)\n",
        "print(test)"
      ],
      "execution_count": null,
      "outputs": [
        {
          "output_type": "stream",
          "name": "stdout",
          "text": [
            "['Sri Lanka', 'Nepal', 'France', 'Haiti', 'Lebenon']\n",
            "['New Zealand', 'Taiwan', 'Poland', 'Madagaskar']\n",
            "Can\n"
          ]
        }
      ]
    },
    {
      "cell_type": "code",
      "metadata": {
        "id": "hzDrsBVELAsr",
        "colab": {
          "base_uri": "https://localhost:8080/"
        },
        "outputId": "9991ac2b-cdd6-4b6e-ff81-299816d3ee22"
      },
      "source": [
        "# slice from the end\n",
        "red_zone = countries[:5]\n",
        "green_zone = countries[5:]\n",
        "\n",
        "print(red_zone)\n",
        "print(green_zone)"
      ],
      "execution_count": null,
      "outputs": [
        {
          "output_type": "stream",
          "name": "stdout",
          "text": [
            "['Sri Lanka', 'Nepal', 'France', 'Haiti', 'Lebenon']\n",
            "['New Zealand', 'Taiwan', 'Poland', 'Madagaskar']\n"
          ]
        }
      ]
    },
    {
      "cell_type": "code",
      "metadata": {
        "id": "uXeNb-9qNdkL",
        "colab": {
          "base_uri": "https://localhost:8080/"
        },
        "outputId": "f48e2765-a2ad-4530-dd56-cb327dab7bf8"
      },
      "source": [
        "# length of the list and the string\n",
        "print(len(red_zone))\n",
        "print(len(green_zone))\n",
        "\n",
        "print('USA' in red_zone)\n",
        "print('France' in red_zone)"
      ],
      "execution_count": null,
      "outputs": [
        {
          "output_type": "stream",
          "name": "stdout",
          "text": [
            "5\n",
            "4\n",
            "False\n",
            "True\n"
          ]
        }
      ]
    },
    {
      "cell_type": "markdown",
      "metadata": {
        "id": "DORS4RJ_0W0Z"
      },
      "source": [
        "<b><h3><font color = 1DAD1E >9. Dictionaries and Identity Operators:\n",
        "\n",
        "A dictionary is a mutable data type that stores mappings of unique keys to values. Here's a dictionary that stores elements and their atomic numbers."
      ]
    },
    {
      "cell_type": "code",
      "metadata": {
        "id": "ApfpAVUvzqDe",
        "colab": {
          "base_uri": "https://localhost:8080/"
        },
        "outputId": "e15e2f35-34c9-4a67-c5d0-ab5019426cd6"
      },
      "source": [
        "cases = {\n",
        "    \"Sri Lanka\": 2271,\n",
        "    \"USA\": 157000,\n",
        "    \"Singapore\": 910,\n",
        "    \"India\": 34000,\n",
        "    \"Australia\": 2198\n",
        "}\n",
        "\n",
        "print(cases)\n",
        "print(cases['Sri Lanka'])\n",
        "print(cases.get('Australia'))"
      ],
      "execution_count": null,
      "outputs": [
        {
          "output_type": "stream",
          "name": "stdout",
          "text": [
            "{'Sri Lanka': 2271, 'USA': 157000, 'Singapore': 910, 'India': 34000, 'Australia': 2198}\n",
            "2271\n",
            "2198\n"
          ]
        }
      ]
    },
    {
      "cell_type": "code",
      "source": [
        "\n",
        "print(cases)\n"
      ],
      "metadata": {
        "id": "m0tHiLw7LAag"
      },
      "execution_count": null,
      "outputs": []
    },
    {
      "cell_type": "markdown",
      "metadata": {
        "id": "xTlhGP84yajj"
      },
      "source": [
        "<b>Dictionaries can have keys of any immutable type, like integers or tuples, not just strings. It's not even necessary for every key to have the same type! We can look up values or insert new values in the dictionary using square brackets that enclose the key."
      ]
    },
    {
      "cell_type": "code",
      "metadata": {
        "id": "pAtBqAtPyZzq",
        "colab": {
          "base_uri": "https://localhost:8080/"
        },
        "outputId": "2706f84e-148f-4246-eeba-6f40bdf458b9"
      },
      "source": [
        "print(cases)\n",
        "\n",
        "cases[\"Norway\"] = 982\n",
        "print(cases)"
      ],
      "execution_count": null,
      "outputs": [
        {
          "output_type": "stream",
          "name": "stdout",
          "text": [
            "{'Sri Lanka': 2271, 'USA': 157000, 'Singapore': 910, 'India': 34000, 'Australia': 2198}\n",
            "{'Sri Lanka': 2271, 'USA': 157000, 'Singapore': 910, 'India': 34000, 'Australia': 2198, 'Norway': 982}\n"
          ]
        }
      ]
    },
    {
      "cell_type": "code",
      "metadata": {
        "id": "CyBTsiY6yrRA",
        "colab": {
          "base_uri": "https://localhost:8080/"
        },
        "outputId": "e74a37e0-39c9-4ac6-9a07-c16cd4230a24"
      },
      "source": [
        "print(\"USA\" in cases)\n",
        "print(cases.get(\"USA\"))"
      ],
      "execution_count": null,
      "outputs": [
        {
          "output_type": "stream",
          "name": "stdout",
          "text": [
            "True\n",
            "157000\n"
          ]
        }
      ]
    },
    {
      "cell_type": "markdown",
      "metadata": {
        "id": "vQzkBZZyb1Ia"
      },
      "source": [
        "<b><h3><font color = 1DAD1E >10. Loops:\n",
        "\n",
        "Loops allow you to control the flow of your program, and also iterate through repititive blocks of code."
      ]
    },
    {
      "cell_type": "markdown",
      "metadata": {
        "id": "xtEEy318dZIw"
      },
      "source": [
        "<b><h3><font color = 1DAD1E >11. While Loops"
      ]
    },
    {
      "cell_type": "code",
      "metadata": {
        "id": "Id-2tCR3bzum",
        "colab": {
          "base_uri": "https://localhost:8080/"
        },
        "outputId": "23b36175-6281-4a19-e85d-99062d898cbf"
      },
      "source": [
        "a = 1\n",
        "\n",
        "while a < 10:\n",
        "  print(a)\n",
        "  a = a + 1"
      ],
      "execution_count": null,
      "outputs": [
        {
          "output_type": "stream",
          "name": "stdout",
          "text": [
            "1\n",
            "2\n",
            "3\n",
            "4\n",
            "5\n",
            "6\n",
            "7\n",
            "8\n",
            "9\n"
          ]
        }
      ]
    },
    {
      "cell_type": "markdown",
      "metadata": {
        "id": "IY0Ib8YmdhH1"
      },
      "source": [
        "<b><h3><font color = 1DAD1E >12. For Loops "
      ]
    },
    {
      "cell_type": "code",
      "metadata": {
        "colab": {
          "base_uri": "https://localhost:8080/",
          "height": 321
        },
        "id": "GAGQFFyEJ8ko",
        "outputId": "f507ef4a-2e42-463b-97b6-683d25f0464c"
      },
      "source": [
        "#@title\n",
        "from IPython.display import YouTubeVideo\n",
        "YouTubeVideo('94UHCEmprCY')"
      ],
      "execution_count": null,
      "outputs": [
        {
          "output_type": "execute_result",
          "data": {
            "text/html": [
              "\n",
              "        <iframe\n",
              "            width=\"400\"\n",
              "            height=\"300\"\n",
              "            src=\"https://www.youtube.com/embed/94UHCEmprCY\"\n",
              "            frameborder=\"0\"\n",
              "            allowfullscreen\n",
              "        ></iframe>\n",
              "        "
            ],
            "text/plain": [
              "<IPython.lib.display.YouTubeVideo at 0x7f35d0021690>"
            ],
            "image/jpeg": "[encoded data removed]"
          },
          "metadata": {},
          "execution_count": 5
        }
      ]
    },
    {
      "cell_type": "code",
      "metadata": {
        "id": "bCv_Fe3NbpXU",
        "colab": {
          "base_uri": "https://localhost:8080/"
        },
        "outputId": "4f2465fa-ec56-4dda-e856-d751b1ac2d5b"
      },
      "source": [
        "nums = list(range(1,11))\n",
        "print(nums)\n",
        "\n",
        "for x in nums:\n",
        "  print(x*2)"
      ],
      "execution_count": null,
      "outputs": [
        {
          "output_type": "stream",
          "name": "stdout",
          "text": [
            "[1, 2, 3, 4, 5, 6, 7, 8, 9, 10]\n",
            "2\n",
            "4\n",
            "6\n",
            "8\n",
            "10\n",
            "12\n",
            "14\n",
            "16\n",
            "18\n",
            "20\n"
          ]
        }
      ]
    },
    {
      "cell_type": "markdown",
      "metadata": {
        "id": "AgvfwAWveg_b"
      },
      "source": [
        "<b><h3><font color = 1DAD1E > **13. Conditional statements:**\n",
        "\n",
        "Conditions such as if, <, >, == allow you check certain conditions in your program"
      ]
    },
    {
      "cell_type": "code",
      "metadata": {
        "id": "k-dZj8kSbpiX",
        "colab": {
          "base_uri": "https://localhost:8080/"
        },
        "outputId": "1185acdc-7628-4f13-e938-7b15b3dfcfbb"
      },
      "source": [
        "a = 1\n",
        "\n",
        "while a < 10:\n",
        "\n",
        "  if a % 3 == 0:\n",
        "    print(str(a) + \" is divisible by 3.\")\n",
        "  else:\n",
        "    print(str(a) + \" is NOT divisible by 3.\")\n",
        "  \n",
        "  a = a + 1"
      ],
      "execution_count": null,
      "outputs": [
        {
          "output_type": "stream",
          "name": "stdout",
          "text": [
            "1 is NOT divisible by 3.\n",
            "2 is NOT divisible by 3.\n",
            "3 is divisible by 3.\n",
            "4 is NOT divisible by 3.\n",
            "5 is NOT divisible by 3.\n",
            "6 is divisible by 3.\n",
            "7 is NOT divisible by 3.\n",
            "8 is NOT divisible by 3.\n",
            "9 is divisible by 3.\n"
          ]
        }
      ]
    },
    {
      "cell_type": "markdown",
      "metadata": {
        "id": "ecBC5R1_m7lB"
      },
      "source": [
        "<h2><b><font color = DA3143 >Program 1: Hello message generator</b></h2>\n",
        "<br>\n",
        "\n",
        "<b>Given a name, and age display the following:\n",
        "\n",
        "\n",
        "\"Hello! My name is Thazleem and I am 10 years old\""
      ]
    },
    {
      "cell_type": "code",
      "metadata": {
        "id": "w3WmqKlJwBUl",
        "colab": {
          "base_uri": "https://localhost:8080/"
        },
        "outputId": "67d27708-cb23-4fb0-cf1d-8b2c88bb51c4"
      },
      "source": [
        "name = 'Thazleem'\n",
        "age = 10\n",
        "\n",
        "# Add your code here"
      ],
      "execution_count": null,
      "outputs": [
        {
          "output_type": "stream",
          "name": "stdout",
          "text": [
            "hello my name is Thazleem  and im  10  years old\n"
          ]
        }
      ]
    },
    {
      "cell_type": "markdown",
      "metadata": {
        "id": "A49VSNFfw9_k"
      },
      "source": [
        "<h2><b><font color = DA3143 >Program 2: Number checker</b></h2>\n",
        "<br>\n",
        "\n",
        "<b>Given a number, check if it is:\n",
        "- Odd / Even \n",
        "- Divisible by 2,3,5\n",
        "- Is a square number\n",
        "</b>"
      ]
    },
    {
      "cell_type": "code",
      "metadata": {
        "id": "SY3utMF0peJ-"
      },
      "source": [
        "\n",
        "# Add your code here\n"
      ],
      "execution_count": null,
      "outputs": []
    },
    {
      "cell_type": "markdown",
      "metadata": {
        "id": "WY58GiSVSQAU"
      },
      "source": [
        "<h2><b><font color = DA3143 >Program 3: Covid data fetcher</b></h2></font>\n",
        "\n",
        "<b>Define a dictionary named population that contains this data:\n",
        "\n",
        "**Keys** ->\t    **Values**\n",
        "\n",
        "California ->\t\t11000\n",
        "\n",
        "Texas\t  ->\t   15000\n",
        "\n",
        "Arizona\t  ->\t   2830\n",
        "\n",
        "Maine\t  ->\t 715"
      ]
    },
    {
      "cell_type": "code",
      "metadata": {
        "id": "8l1IE_EMpcwc"
      },
      "source": [
        "# Add your code her\n"
      ],
      "execution_count": null,
      "outputs": []
    },
    {
      "cell_type": "markdown",
      "metadata": {
        "id": "hGtFkbURZte8"
      },
      "source": [
        "<h3><b><font color = DA3143 >Add \"Massachusetts -> 2178\" to this dict"
      ]
    },
    {
      "cell_type": "code",
      "metadata": {
        "id": "6JCa8iYRpdh4",
        "colab": {
          "base_uri": "https://localhost:8080/"
        },
        "outputId": "54109bdb-a46c-4e5a-8828-e889cf460bb2"
      },
      "source": [
        "# Add your code here\n"
      ],
      "execution_count": null,
      "outputs": [
        {
          "output_type": "stream",
          "name": "stdout",
          "text": [
            "{'california': 11000, 'texas': 15000, 'arizona': 2830, 'maine': 715, 'massachusetts': 2178}\n"
          ]
        }
      ]
    },
    {
      "cell_type": "markdown",
      "metadata": {
        "id": "49lKYSlwZZ2n"
      },
      "source": [
        "<h3><b><font color = DA3143 >Find the total cases in the East coast [Maine, Massachusetts]"
      ]
    },
    {
      "cell_type": "code",
      "metadata": {
        "id": "C3zcaq2SyHC9"
      },
      "source": [
        "# Add your code here"
      ],
      "execution_count": null,
      "outputs": []
    },
    {
      "cell_type": "markdown",
      "metadata": {
        "id": "PgpLsRaigjrc"
      },
      "source": [
        "<h3><b><font color = DA3143 > Program 4: Factors generator:**\n",
        "\n",
        "Now write your own factor generator"
      ]
    },
    {
      "cell_type": "code",
      "metadata": {
        "id": "xA_RSfdrbppz"
      },
      "source": [
        ""
      ],
      "execution_count": null,
      "outputs": []
    },
    {
      "cell_type": "markdown",
      "metadata": {
        "id": "SRrTE3LAFJOe"
      },
      "source": [
        "![](https://drive.google.com/uc?export=view&id=1L1HZQf4VDVsCZufs_SGpfEGY9vrtdwLO)"
      ]
    }
  ]
}